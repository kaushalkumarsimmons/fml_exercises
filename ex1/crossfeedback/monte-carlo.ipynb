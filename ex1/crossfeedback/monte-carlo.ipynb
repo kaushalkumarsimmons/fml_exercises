{
 "cells": [
  {
   "cell_type": "markdown",
   "metadata": {
    "id": "Lg-qVFStdvxj"
   },
   "source": [
    "# Aufgabe 1.1\n",
    "\n",
    "Given P(X|Y=0) = 2 - 2x and P(X|Y=1) = 2x compute the associated CDFs:\n",
    "\n",
    " - $F_{X|Y=0}(X) = \\int_{0}^{x} 2 - 2x \\,dx = 2x - x²$\n",
    " - $F_{X|Y=1}(X) = \\int_{0}^{x} 2x \\,dx = x²$\n",
    " \n",
    " \n",
    "\\\n",
    "Now transform the CDFs to the inverse functions:\n",
    " - $F^{-1}_{X|Y=0}(y) = 1 - \\sqrt{(1 - y)}$\n",
    " - $F^{-1}_{X|Y=1}(y) = \\sqrt{(y)}$ \n",
    " \n",
    " \n",
    "\\\n",
    "Those inverse functions are now used for the inverse transform sampling:"
   ]
  },
  {
   "cell_type": "code",
   "execution_count": null,
   "metadata": {
    "id": "Uk2rSQfHdx5O"
   },
   "outputs": [],
   "source": [
    "from matplotlib import pyplot as plt\n",
    "import numpy as np"
   ]
  },
  {
   "cell_type": "code",
   "execution_count": null,
   "metadata": {
    "id": "QY-wRF7CeDDP"
   },
   "outputs": [],
   "source": [
    "\n",
    "def create_data(N):\n",
    "  \"\"\"\n",
    "  Creates a data set of size N according to the above inversed sampling method\n",
    "  \"\"\"\n",
    "    x_0 = []\n",
    "    x_1 = []\n",
    "    y = []\n",
    "    \n",
    "    for i in range(N):\n",
    "        # create y € {0, 1}\n",
    "        y_value = np.random.randint(0, 2)\n",
    "        y.append(y_value)\n",
    "\n",
    "        if y_value == 0:\n",
    "            x_0.append(1 - np.sqrt(1 - np.random.rand()))\n",
    "              \n",
    "        else:\n",
    "            x_1.append(np.sqrt(np.random.rand()))\n",
    "            \n",
    "    return x_0, x_1, y"
   ]
  },
  {
   "cell_type": "code",
   "execution_count": null,
   "metadata": {
    "colab": {
     "base_uri": "https://localhost:8080/",
     "height": 809
    },
    "id": "ZZ8XpfgDeFEu",
    "outputId": "fa34cda1-8d86-48d7-d992-c0fb6654cacf"
   },
   "outputs": [
    {
     "data": {
      "image/png": "[encoded data removed]",
      "text/plain": [
       "<Figure size 432x288 with 1 Axes>"
      ]
     },
     "metadata": {
      "needs_background": "light"
     },
     "output_type": "display_data"
    },
    {
     "data": {
      "image/png": "[encoded data removed]",
      "text/plain": [
       "<Figure size 432x288 with 1 Axes>"
      ]
     },
     "metadata": {
      "needs_background": "light"
     },
     "output_type": "display_data"
    },
    {
     "data": {
      "image/png": "[encoded data removed]",
      "text/plain": [
       "<Figure size 432x288 with 1 Axes>"
      ]
     },
     "metadata": {
      "needs_background": "light"
     },
     "output_type": "display_data"
    }
   ],
   "source": [
    "\"\"\"\n",
    "Plot the prior and likelihoods\n",
    "\"\"\"\n",
    "\n",
    "n_bins = 50\n",
    "\n",
    "x_0, x_1, y = create_data(10000)\n",
    "\n",
    "plt.hist(x_0, bins=n_bins)\n",
    "plt.title(\"Likelihood: P(X|Y=0)\")\n",
    "plt.show()\n",
    "\n",
    "plt.hist(x_1, bins=n_bins)\n",
    "plt.title(\"Likelihood: P(X|Y=1)\")\n",
    "plt.show()\n",
    "\n",
    "plt.hist(y, bins=n_bins)\n",
    "plt.title(\"Prior: P(Y)\")\n",
    "plt.show()"
   ]
  },
  {
   "cell_type": "markdown",
   "metadata": {
    "id": "qhiIWu3FekQw"
   },
   "source": [
    "# Aufgabe 1.2"
   ]
  },
  {
   "cell_type": "code",
   "execution_count": null,
   "metadata": {
    "id": "wYyvWRFYeKJx"
   },
   "outputs": [],
   "source": [
    "def testing_data(M):\n",
    "  \"\"\"\n",
    "  Creates a data set of size N according to the above inversed sampling method\n",
    "  We ensure that every data set contains one instance of either class\n",
    "  \"\"\"\n",
    "    while True:\n",
    "        testing_set = []\n",
    "        for i in range(M):\n",
    "            # create y € {0, 1}\n",
    "            y_value = np.random.randint(0, 2)\n",
    "\n",
    "            if y_value == 0:\n",
    "                testing_set.append((1 - np.sqrt(1 - np.random.rand()), y_value))\n",
    "\n",
    "            else:\n",
    "                testing_set.append((np.sqrt(np.random.rand()), y_value))\n",
    "                \n",
    "        labels = []\n",
    "        for elem in testing_set:\n",
    "            labels.append(elem[1])\n",
    "\n",
    "        if 0 in labels and 1 in labels:\n",
    "            break\n",
    "\n",
    "    return testing_set"
   ]
  },
  {
   "cell_type": "code",
   "execution_count": null,
   "metadata": {
    "id": "AEc6GSVlh8_7"
   },
   "outputs": [],
   "source": [
    "def threshold_classifier(testing_set, threshold):\n",
    "  \"\"\"\n",
    "  Implements the threshold classifier based on Rule A\n",
    "  \"\"\"\n",
    "  classification = []\n",
    "  for tupel in testing_set:\n",
    "    if tupel[0] < threshold:\n",
    "      classification.append(0)\n",
    "    else:\n",
    "      classification.append(1)\n",
    "  return classification\n",
    "\n",
    "def threshold_anticlassifier(testing_set, threshold):\n",
    "  \"\"\"\n",
    "  Implements the threshold classifier based on Rule B\n",
    "  \"\"\"\n",
    "  classification = []\n",
    "  for tupel in testing_set:\n",
    "    if tupel[0] >= threshold:\n",
    "      classification.append(0)\n",
    "    else:\n",
    "      classification.append(1)\n",
    "  return classification"
   ]
  },
  {
   "cell_type": "code",
   "execution_count": null,
   "metadata": {
    "id": "yrti5dmJkJG3"
   },
   "outputs": [],
   "source": [
    "def calculateErrorRate(threshold, M):\n",
    "  \"\"\"\n",
    "  Calculates the error rate for the classifier based on Rule A\n",
    "  \"\"\"\n",
    "  test_data = testing_data(M)\n",
    "  y_hat = threshold_classifier(test_data, threshold)\n",
    "  count_right = 0\n",
    "  count_wrong = 0\n",
    "  for test,y in zip(test_data,y_hat):\n",
    "    if test[1] == y:\n",
    "      count_right += 1\n",
    "    else:\n",
    "      count_wrong += 1\n",
    "  result = count_wrong/(count_wrong+count_right)\n",
    "  return result\n"
   ]
  },
  {
   "cell_type": "code",
   "execution_count": null,
   "metadata": {
    "id": "lJTavr0K03un"
   },
   "outputs": [],
   "source": [
    "def calculateErrorRateAnti(threshold, M):\n",
    "  \"\"\"\n",
    "  Calculates the error rate for the classifier based on Rule B\n",
    "  \"\"\"\n",
    "  test_data = testing_data(M)\n",
    "  y_hat = threshold_anticlassifier(test_data, threshold)\n",
    "  count_right = 0\n",
    "  count_wrong = 0\n",
    "  for test,y in zip(test_data,y_hat):\n",
    "    if test[1] == y:\n",
    "      count_right += 1\n",
    "    else:\n",
    "      count_wrong += 1\n",
    "  result = count_wrong/(count_wrong+count_right)\n",
    "  return result"
   ]
  },
  {
   "cell_type": "code",
   "execution_count": null,
   "metadata": {
    "colab": {
     "base_uri": "https://localhost:8080/",
     "height": 1000
    },
    "id": "J5nzmEFNsgWd",
    "outputId": "192a4580-7201-49b7-a3f4-8a411f78463c"
   },
   "outputs": [
    {
     "data": {
      "image/png": "[encoded data removed]",
      "text/plain": [
       "<Figure size 432x288 with 1 Axes>"
      ]
     },
     "metadata": {
      "needs_background": "light"
     },
     "output_type": "display_data"
    },
    {
     "data": {
      "image/png": "[encoded data removed]",
      "text/plain": [
       "<Figure size 432x288 with 1 Axes>"
      ]
     },
     "metadata": {
      "needs_background": "light"
     },
     "output_type": "display_data"
    },
    {
     "data": {
      "image/png": "[encoded data removed]",
      "text/plain": [
       "<Figure size 432x288 with 1 Axes>"
      ]
     },
     "metadata": {
      "needs_background": "light"
     },
     "output_type": "display_data"
    },
    {
     "data": {
      "image/png": "[encoded data removed]",
      "text/plain": [
       "<Figure size 432x288 with 1 Axes>"
      ]
     },
     "metadata": {
      "needs_background": "light"
     },
     "output_type": "display_data"
    }
   ],
   "source": [
    "\"\"\"\n",
    "Plots the error rates,means and standard derivation for thresholds based on Rule A and B\n",
    "\"\"\"\n",
    "M = [10,100,1000,10000]\n",
    "x_t = [.0,.2,.5,.6]\n",
    "error = []\n",
    "error_anti = []\n",
    "for j in x_t:\n",
    "  for i in M:\n",
    "    error_value = 0\n",
    "    error_value_anti = 0\n",
    "    for m in range(10):\n",
    "      error_value += calculateErrorRate(j,i)\n",
    "      error_value_anti += calculateErrorRateAnti(j,i)\n",
    "    error_value_anti /= 10\n",
    "    error_anti.append((j,i,error_value_anti))\n",
    "    error_value /= 10\n",
    "    error.append((j,i,error_value))\n",
    "\n",
    "x_first = []\n",
    "y_first = []\n",
    "for i in range(4):\n",
    "  y_first.append(error[i][2])\n",
    "  x_first.append(error[i][1])\n",
    "\n",
    "x_second = []\n",
    "y_second = []\n",
    "for i in range(4,8):\n",
    "  y_second.append(error[i][2])\n",
    "  x_second.append(error[i][1])\n",
    "\n",
    "\n",
    "x_third = []\n",
    "y_thrid = []\n",
    "for i in range(8,12):\n",
    "  y_thrid.append(error[i][2])\n",
    "  x_third.append(error[i][1])\n",
    "\n",
    "x_forth = []\n",
    "y_forth = []\n",
    "for i in range(12,16):\n",
    "  y_forth.append(error[i][2])\n",
    "  x_forth.append(error[i][1])\n",
    "\n",
    "\n",
    "#print(np.mean(y_first))\n",
    "x_mean = [.0,.2,.5,.6]\n",
    "y_mean = [np.mean(y_first),np.mean(y_second),np.mean(y_thrid),np.mean(y_forth)]\n",
    "\n",
    "y_std = [np.std(y_first),np.std(y_second),np.std(y_thrid),np.std(y_forth)]\n",
    "\n",
    "plt.plot(x_first,y_first)\n",
    "plt.plot(x_second,y_second)\n",
    "plt.plot(x_third,y_thrid)\n",
    "plt.plot(x_forth,y_forth)\n",
    "plt.title(\"Classifier-error-rate\")\n",
    "plt.legend((\"x_t = 0,0\",\"x_t = 0,2\", \"x_t = 0,5\",\"x_t = 0,6\"),bbox_to_anchor=(1.1, 1.05))\n",
    "plt.show()\n",
    "\n",
    "x_first = []\n",
    "y_first = []\n",
    "for i in range(4):\n",
    "  y_first.append(error_anti[i][2])\n",
    "  x_first.append(error_anti[i][1])\n",
    "\n",
    "x_second = []\n",
    "y_second = []\n",
    "for i in range(4,8):\n",
    "  y_second.append(error_anti[i][2])\n",
    "  x_second.append(error_anti[i][1])\n",
    "\n",
    "\n",
    "x_third = []\n",
    "y_thrid = []\n",
    "for i in range(8,12):\n",
    "  y_thrid.append(error_anti[i][2])\n",
    "  x_third.append(error_anti[i][1])\n",
    "\n",
    "x_forth = []\n",
    "y_forth = []\n",
    "for i in range(12,16):\n",
    "  y_forth.append(error_anti[i][2])\n",
    "  x_forth.append(error_anti[i][1])\n",
    "\n",
    "\n",
    "\n",
    "x_mean_anti = [.0,.2,.5,.6]\n",
    "y_mean_anti = [np.mean(y_first),np.mean(y_second),np.mean(y_thrid),np.mean(y_forth)]\n",
    "\n",
    "y_std_anti = [np.std(y_first),np.std(y_second),np.std(y_thrid),np.std(y_forth)]\n",
    "\n",
    "\n",
    "\n",
    "plt.plot(x_first,y_first)\n",
    "plt.plot(x_second,y_second)\n",
    "plt.plot(x_third,y_thrid)\n",
    "plt.plot(x_forth,y_forth)\n",
    "plt.title(\"Anticlassifier-error-rate\")\n",
    "plt.legend((\"x_t = 0,0\",\"x_t = 0,2\", \"x_t = 0,5\",\"x_t = 0,6\"),bbox_to_anchor=(1.1, 1.05))\n",
    "plt.show()\n",
    "\n",
    "plt.plot(x_mean,y_mean)\n",
    "plt.plot(x_mean_anti,y_mean_anti)\n",
    "plt.title(\"mean of classifiers\")\n",
    "plt.legend((\"Classifier mean\",\"Anticlassifier mean\"),bbox_to_anchor=(1.1, 1.05))\n",
    "plt.show()\n",
    "\n",
    "plt.plot(x_mean,y_std)\n",
    "plt.plot(x_mean,y_std_anti)\n",
    "plt.title(\"standard deviations of classifiers\")\n",
    "plt.legend((\"std classifier\",\"std anticlassifier\"),bbox_to_anchor=(1.1, 1.05))\n",
    "plt.show()\n",
    "\n"
   ]
  },
  {
   "cell_type": "code",
   "execution_count": null,
   "metadata": {
    "id": "ADWALViozmj1"
   },
   "outputs": [],
   "source": []
  },
  {
   "cell_type": "markdown",
   "metadata": {
    "id": "3SBad55_T1cx"
   },
   "source": [
    "# Aufgabe 1.3"
   ]
  },
  {
   "cell_type": "code",
   "execution_count": null,
   "metadata": {
    "id": "u44UsmszT_85"
   },
   "outputs": [],
   "source": [
    "def threshold_classifier_guessing(testing_set):\n",
    "  \"\"\"\n",
    "  Implements the threshold classifier based on Rule C\n",
    "  \"\"\"\n",
    "  classification = []\n",
    "  for i in testing_set:\n",
    "    classification.append(np.random.randint(0, 2))\n",
    "    \n",
    "  return classification"
   ]
  },
  {
   "cell_type": "code",
   "execution_count": null,
   "metadata": {
    "id": "zuT3Q5IMUzG5"
   },
   "outputs": [],
   "source": [
    "def threshold_classifier_constant(testing_set):\n",
    "  \"\"\"\n",
    "  Implements the threshold classifier based on Rule D\n",
    "  \"\"\"\n",
    "  classification = []\n",
    "  for i in testing_set:\n",
    "    classification.append(1)\n",
    "  return classification"
   ]
  },
  {
   "cell_type": "code",
   "execution_count": null,
   "metadata": {
    "id": "Aou0mK0XVsq8"
   },
   "outputs": [],
   "source": [
    "def calculateErrorRate_guessing(M):\n",
    "  \"\"\"\n",
    "  Calculates the error rate for the classifier based on Rule C\n",
    "  \"\"\"\n",
    "  test_data = testing_data(M)\n",
    "  y_hat = threshold_classifier_guessing(test_data)\n",
    "  count_right = 0\n",
    "  count_wrong = 0\n",
    "  for test,y in zip(test_data,y_hat):\n",
    "    if test[1] == y:\n",
    "      count_right += 1\n",
    "    else:\n",
    "      count_wrong += 1\n",
    "  result = count_wrong/(count_wrong+count_right)\n",
    "  return result"
   ]
  },
  {
   "cell_type": "code",
   "execution_count": null,
   "metadata": {
    "id": "60f5BZKoZ9Fs"
   },
   "outputs": [],
   "source": [
    "def calculateErrorRate_constant(M):\n",
    "  \"\"\"\n",
    "  Calculates the error rate for the classifier based on Rule D\n",
    "  \"\"\"\n",
    "  test_data = testing_data(M)\n",
    "  y_hat = threshold_classifier_constant(test_data)\n",
    "  count_right = 0\n",
    "  count_wrong = 0\n",
    "  for test,y in zip(test_data,y_hat):\n",
    "    if test[1] == y:\n",
    "      count_right += 1\n",
    "    else:\n",
    "      count_wrong += 1\n",
    "  result = count_wrong/(count_wrong+count_right)\n",
    "  return result"
   ]
  },
  {
   "cell_type": "code",
   "execution_count": null,
   "metadata": {
    "id": "Fm7e2UdkaHG8"
   },
   "outputs": [],
   "source": [
    "\"\"\"\n",
    "Plots the error rates,means and standard derivation for thresholds based on Rule C and D\n",
    "\"\"\"\n",
    "error_guessing = []\n",
    "error_constant = []\n",
    "\n",
    "for i in M:\n",
    "  error_value_guessing = 0\n",
    "  error_value_constant = 0\n",
    "  for m in range(10):\n",
    "    error_value_guessing += calculateErrorRate_guessing(i)\n",
    "    error_value_constant += calculateErrorRate_constant(i)\n",
    "  error_value_constant /= 10\n",
    "  error_constant.append((i,error_value_constant))\n",
    "  error_value_guessing /= 10\n",
    "  error_guessing.append((i,error_value_guessing))"
   ]
  },
  {
   "cell_type": "code",
   "execution_count": null,
   "metadata": {
    "id": "LC-hgqo3a541"
   },
   "outputs": [],
   "source": [
    "y_guessing = []\n",
    "x_guessing = []\n",
    "for err in error_guessing:\n",
    "  y_guessing.append(err[1])\n",
    "  x_guessing.append(err[0])\n",
    "\n",
    "y_constant = []\n",
    "x_constant = []\n",
    "for err in error_constant:\n",
    "  y_constant.append(err[1])\n",
    "  x_constant.append(err[0])\n",
    "\n"
   ]
  },
  {
   "cell_type": "code",
   "execution_count": null,
   "metadata": {
    "colab": {
     "base_uri": "https://localhost:8080/",
     "height": 281
    },
    "id": "Le91Ishrci5Y",
    "outputId": "f01647cb-3271-4d6e-fa63-bf2cdc95c549"
   },
   "outputs": [
    {
     "data": {
      "image/png": "[encoded data removed]",
      "text/plain": [
       "<Figure size 432x288 with 1 Axes>"
      ]
     },
     "metadata": {
      "needs_background": "light"
     },
     "output_type": "display_data"
    }
   ],
   "source": [
    "plt.plot(x_guessing,y_guessing)\n",
    "plt.plot(x_constant,y_constant)\n",
    "plt.title(\"error-rate\")\n",
    "plt.legend((\"guessing\",\"constant\"),bbox_to_anchor=(1.1, 1.05))\n",
    "plt.show()\n",
    "\n"
   ]
  },
  {
   "cell_type": "code",
   "execution_count": null,
   "metadata": {
    "colab": {
     "base_uri": "https://localhost:8080/",
     "height": 316
    },
    "id": "VnS-oqYqfbh7",
    "outputId": "a4855171-ceca-4756-d4db-ad23eae936ec"
   },
   "outputs": [
    {
     "name": "stdout",
     "output_type": "stream",
     "text": [
      "0.008660119802866498\n",
      "0.031235103949723\n"
     ]
    },
    {
     "data": {
      "image/png": "[encoded data removed]",
      "text/plain": [
       "<Figure size 432x288 with 1 Axes>"
      ]
     },
     "metadata": {
      "needs_background": "light"
     },
     "output_type": "display_data"
    }
   ],
   "source": [
    "\"\"\"\n",
    "Plot for the standard derivation of Rule C and Rule D\n",
    "\"\"\"\n",
    "y_std_guessing = np.std(y_guessing)\n",
    "y_std_constant = np.std(y_constant)\n",
    "\n",
    "print(y_std_guessing)\n",
    "print(y_std_constant)\n",
    "\n",
    "ind = np.arange(1)\n",
    "\n",
    "\n",
    "p1 = plt.bar(ind, y_std_guessing)\n",
    "p2 = plt.bar(ind, (y_std_constant-y_std_guessing),\n",
    "             bottom=y_std_guessing)\n",
    "\n",
    "plt.ylabel('standard derivation')\n",
    "plt.title('standard derivation for guessing and constant')\n",
    "plt.xticks(ind, (' ', ' '))\n",
    "plt.yticks(np.arange(0, 0.051, 0.01))\n",
    "plt.legend((p1[0], p2[0]), ('guessing', 'constant'))\n",
    "\n",
    "plt.show()"
   ]
  },
  {
   "cell_type": "markdown",
   "metadata": {
    "id": "oimMAaixk-yf"
   },
   "source": [
    "# Aufgabe 1.4\n"
   ]
  },
  {
   "cell_type": "code",
   "execution_count": null,
   "metadata": {
    "id": "V8ODJ658lWxp"
   },
   "outputs": [],
   "source": [
    "def toy_nearest_neighbor(Xtest, Xtrain, Ytrain):\n",
    "  \"\"\"\n",
    "  Implements the nearest neighbor classifier\n",
    "  \"\"\"\n",
    "  y_test = 0\n",
    "  shortest_distance = 0\n",
    "  for i,(x,y) in enumerate(zip(Xtrain,Ytrain)):\n",
    "    distance = abs(Xtest-x)\n",
    "    if(i == 0):\n",
    "      shortest_distance = distance\n",
    "      y_test = y\n",
    "    if(distance < shortest_distance):\n",
    "      y_test = y\n",
    "      \n",
    "  return y_test\n",
    "\n"
   ]
  },
  {
   "cell_type": "code",
   "execution_count": null,
   "metadata": {
    "id": "mziELssDtZkl"
   },
   "outputs": [],
   "source": [
    "def calculate_error(N):\n",
    "  \"\"\"\n",
    "  Calculates the error rate for the nearest neighbor classifier\n",
    "  \"\"\"\n",
    "    error_avg_nn = 0\n",
    "    miss = 0\n",
    "\n",
    "    for i in range(1000):\n",
    "\n",
    "        training_set = testing_data(N)\n",
    "        test_data = testing_data(100)\n",
    "\n",
    "        for test_elem in test_data:\n",
    "\n",
    "            # extract xtrain and ytrain\n",
    "\n",
    "            xtrain = []\n",
    "            ytrain = []\n",
    "            for elem in training_set:\n",
    "                xtrain.append(elem[0])\n",
    "                ytrain.append(elem[1])\n",
    "\n",
    "            y_predicted = toy_nearest_neighbor(test_elem[0], xtrain, ytrain)\n",
    "\n",
    "            if y_predicted != test_elem[1]:\n",
    "                miss += 1\n",
    "\n",
    "    error_avg_nn = miss / (1000*100)\n",
    "    return error_avg_nn"
   ]
  },
  {
   "cell_type": "code",
   "execution_count": null,
   "metadata": {
    "colab": {
     "base_uri": "https://localhost:8080/"
    },
    "id": "LipOpmSFVRfl",
    "outputId": "56c524ff-9dfc-4e16-fc96-9616dd388376"
   },
   "outputs": [
    {
     "name": "stdout",
     "output_type": "stream",
     "text": [
      "error rate at N = 2: 0.351210\n",
      "error rate at N = 100: 0.393490\n"
     ]
    }
   ],
   "source": [
    "print(\"error rate at N = 2: %f\" % calculate_error(2))\n",
    "print(\"error rate at N = 100: %f\" % calculate_error(100))"
   ]
  }
 ],
 "metadata": {
  "colab": {
   "collapsed_sections": [],
   "name": "Uebung1.ipynb",
   "provenance": []
  },
  "kernelspec": {
   "display_name": "Python 3",
   "language": "python",
   "name": "python3"
  },
  "language_info": {
   "codemirror_mode": {
    "name": "ipython",
    "version": 3
   },
   "file_extension": ".py",
   "mimetype": "text/x-python",
   "name": "python",
   "nbconvert_exporter": "python",
   "pygments_lexer": "ipython3",
   "version": "3.8.8"
  }
 },
 "nbformat": 4,
 "nbformat_minor": 1
}
